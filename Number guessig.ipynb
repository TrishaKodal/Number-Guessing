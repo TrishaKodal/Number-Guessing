{
 "cells": [
  {
   "cell_type": "code",
   "execution_count": 7,
   "metadata": {},
   "outputs": [],
   "source": [
    "#This project is an exciting fun game for beginners to build up. \n",
    "#The program generates a random number from 1 to 10, or 1 to 100 any range that is specified and the user must guess the number\n",
    "#after a hint from the computer. \n",
    "#Every time a user’s guess is wrong they are prompted with more hints to make it easier for them to guess the number but at \n",
    "#the cost of reducing the score. The clue any math clue like multiples, divisible, greater or smaller, or a combination of all. \n",
    "\n",
    "#The program also requires functions to check if an actual number is entered by the user or not, \n",
    "#to compare the input number with the actual number, to find the difference between the two numbers."
   ]
  },
  {
   "cell_type": "code",
   "execution_count": 8,
   "metadata": {},
   "outputs": [],
   "source": [
    "import random\n",
    "attempts_list = []\n",
    "def attempt_score():\n",
    "    if len(attempts_list) <= 0:\n",
    "        print(\"There is currently no high score, Let;s play!\")\n",
    "    else:\n",
    "        print(\"The current high score is {} attempts\".format(min(attempts_list)))\n"
   ]
  },
  {
   "cell_type": "code",
   "execution_count": 9,
   "metadata": {},
   "outputs": [
    {
     "name": "stdout",
     "output_type": "stream",
     "text": [
      "Hello!! Welcome to the game of guesses!\n",
      "What is your name? upama\n",
      "Hi, upama, would you like to play the guessing game? (Enter Yes/No) yes\n",
      "There is currently no high score, Let;s play!\n",
      "Pick a number between 1 and 10 8\n",
      "It's higher\n",
      "Pick a number between 1 and 10 6\n",
      "It's higher\n",
      "Pick a number between 1 and 10 0\n",
      "Oh no!, that is not a valid value. Try again...\n",
      "(Please guess a valid number within the given range)\n",
      "Pick a number between 1 and 10 0\n",
      "Oh no!, that is not a valid value. Try again...\n",
      "(Please guess a valid number within the given range)\n",
      "Pick a number between 1 and 10 10\n",
      "Nice! You got it!\n",
      "It took you 3 attempts\n",
      "Would you like to play again? (Enter Yes/No) no\n",
      "The current high score is 3 attempts\n",
      "See you again BYE!!\n"
     ]
    }
   ],
   "source": [
    "def start_game():\n",
    "    random_number = int(random.randint(1, 10))\n",
    "    print(\"Hello!! Welcome to the game of guesses!\")\n",
    "    player_name = input(\"What is your name? \")\n",
    "    wanna_play = input(\"Hi, {}, would you like to play the guessing game? (Enter Yes/No) \".format(player_name))\n",
    "    attempt_score()\n",
    "    attempts = 0\n",
    "    \n",
    "    while wanna_play.lower() == \"yes\":\n",
    "        try:\n",
    "            guess = input(\"Pick a number between 1 and 10 \")\n",
    "            if int(guess) < 1 or int(guess) > 10:\n",
    "                raise ValueError(\"Please guess a valid number within the given range\")\n",
    "            if int(guess) == random_number:\n",
    "                print(\"Nice! You got it!\")\n",
    "                attempts += 1\n",
    "                attempts_list.append(attempts)\n",
    "                print(\"It took you {} attempts\".format(attempts))\n",
    "                play_again = input(\"Would you like to play again? (Enter Yes/No) \")\n",
    "                attempts = 0\n",
    "                attempt_score()\n",
    "                random_number = int(random.randint(1, 10))\n",
    "                if play_again.lower() == \"no\":\n",
    "                    print(\"See you again BYE!!\")\n",
    "                    break\n",
    "            elif int(guess) > random_number:\n",
    "                print(\"It's lower\")\n",
    "                attempts += 1\n",
    "            elif int(guess) < random_number:\n",
    "                print(\"It's higher\")\n",
    "                attempts += 1\n",
    "        except ValueError as err:\n",
    "            print(\"Oh no!, that is not a valid value. Try again...\")\n",
    "            print(\"({})\".format(err))\n",
    "    else\n",
    "    \n",
    "        print(\"That's cool, have a good one!\")\n",
    "if __name__ == '__main__':\n",
    "    start_game()\n"
   ]
  },
  {
   "cell_type": "code",
   "execution_count": null,
   "metadata": {},
   "outputs": [],
   "source": []
  },
  {
   "cell_type": "code",
   "execution_count": null,
   "metadata": {},
   "outputs": [],
   "source": []
  },
  {
   "cell_type": "code",
   "execution_count": null,
   "metadata": {},
   "outputs": [],
   "source": []
  }
 ],
 "metadata": {
  "kernelspec": {
   "display_name": "Python 3",
   "language": "python",
   "name": "python3"
  }
 },
 "nbformat": 4,
 "nbformat_minor": 4
}
